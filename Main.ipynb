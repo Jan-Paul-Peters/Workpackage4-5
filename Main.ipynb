{
  "cells": [
    {
      "cell_type": "code",
      "execution_count": 11,
      "metadata": {
        "id": "3T0RmFWlVuuq"
      },
      "outputs": [],
      "source": [
        "import numpy as np\n",
        "import numpy.linalg as LA"
      ]
    },
    {
      "cell_type": "code",
      "execution_count": 12,
      "metadata": {
        "id": "0RPg3jA1HBxq"
      },
      "outputs": [],
      "source": [
        "def V_z(y):\n",
        "  raise NotImplementedError"
      ]
    },
    {
      "cell_type": "code",
      "execution_count": 13,
      "metadata": {
        "id": "Wd1nKsbtGxh3"
      },
      "outputs": [],
      "source": [
        "def T(y):\n",
        "  raise NotImplementedError"
      ]
    },
    {
      "cell_type": "code",
      "execution_count": 14,
      "metadata": {
        "id": "M7PjhQe6FRh6"
      },
      "outputs": [],
      "source": [
        "def M_x(y):\n",
        "  raise NotImplementedError"
      ]
    },
    {
      "cell_type": "code",
      "execution_count": 15,
      "metadata": {},
      "outputs": [],
      "source": [
        "b2 = 16.07/2\n",
        "root_c = np.nan \n",
        "tip_c = np.nan\n",
        "\n",
        "def chord_length(y):\n",
        "    \"\"\"Returns chord length at spanwise posistion\"\"\"\n",
        "    return root_c + y * (tip_c - root_c)/b2\n",
        "\n",
        "def airfoil_surface(cls, x):\n",
        "    \"\"\"Returns upper and lower coordinate of airfoil surface for a chordwise posistion\"\"\"\n",
        "    raise NotImplementedError\n",
        "    return z_upper, z_lower"
      ]
    },
    {
      "cell_type": "code",
      "execution_count": 16,
      "metadata": {},
      "outputs": [],
      "source": [
        "class Panel:\n",
        "    def __init__(self, point1, point2, thickness):\n",
        "        \"\"\"point1 and point2 are coordinates relative to the chord, thickness in mm\"\"\"\n",
        "        self.p1 = point1\n",
        "        self.p2 = point2\n",
        "        self.vector = point2 - point1\n",
        "        self.h = LA.norm(self.vector)\n",
        "        self.t = thickness/1000\n",
        "        # z is the vertical distance from the x axis relative to chord\n",
        "        self.z = (point1 + self.vector/2)[0]\n",
        "\n",
        "    def A(self, chord):\n",
        "        return self.h * chord * self.t\n",
        "    \n",
        "    def Q_x(self, chord):\n",
        "        \"\"\"Returns first moment of area about z=0\"\"\"\n",
        "        return self.z * chord * self.area(chord)\n",
        "    \n",
        "    def I_xc(self, chord):\n",
        "        \"\"\"Returns second moment of area about own axis\"\"\"\n",
        "        cos_a = self.vector[0] / self.h\n",
        "        sin_a = self.vector[1] / self.h\n",
        "\n",
        "        return self.t * self.h * (self.t**2 * cos_a**2 + self.h**2 * sin_a**2)\n",
        "    \n",
        "    def I_xc(self, chord, z_centroid):\n",
        "        \"\"\"Returns second moment of area about centroid\"\"\"\n",
        "        d = self.z * chord - z_centroid\n",
        "        return self.I_xc(chord) + self.area(chord) * d**2\n",
        "    \n"
      ]
    },
    {
      "cell_type": "code",
      "execution_count": 17,
      "metadata": {},
      "outputs": [],
      "source": [
        "class Stringer:\n",
        "    def __init__(self, area, point, length):\n",
        "        \"\"\"area is in square mmm, point is the coordinate realtive to the chord and length is the spanwise length of the stringer\"\"\"\n",
        "        self.A = area * 1e-6\n",
        "        self.point = point\n",
        "        self.length = length\n",
        "    \n",
        "    def Q_x(self, chord):\n",
        "        \"\"\"Returns first moment of area about z=0\"\"\"\n",
        "        return self.A * self.point[1] * chord\n",
        "\n",
        "    def I_xc(self, chord, z_centroid):\n",
        "        \"\"\"Returns second moment of area about centroid\"\"\"\n",
        "        return self.A * (self.point[0] * chord - z_centroid)**2 \n"
      ]
    },
    {
      "cell_type": "code",
      "execution_count": 18,
      "metadata": {},
      "outputs": [],
      "source": [
        "# This is not important it just helps the IDE with autocomplete\n",
        "from typing import Optional\n",
        "from collections.abc import Collection"
      ]
    },
    {
      "cell_type": "code",
      "execution_count": 20,
      "metadata": {
        "colab": {
          "base_uri": "https://localhost:8080/",
          "height": 133
        },
        "id": "1iezrXftI4yw",
        "outputId": "192889cf-c441-48e1-d09a-5fd1f90c717a"
      },
      "outputs": [
        {
          "ename": "TypeError",
          "evalue": "'ABCMeta' object is not subscriptable",
          "output_type": "error",
          "traceback": [
            "\u001b[1;31m---------------------------------------------------------------------------\u001b[0m",
            "\u001b[1;31mTypeError\u001b[0m                                 Traceback (most recent call last)",
            "\u001b[1;32m<ipython-input-20-abd93ead9016>\u001b[0m in \u001b[0;36m<module>\u001b[1;34m\u001b[0m\n\u001b[1;32m----> 1\u001b[1;33m \u001b[1;32mclass\u001b[0m \u001b[0mWingBox\u001b[0m\u001b[1;33m:\u001b[0m\u001b[1;33m\u001b[0m\u001b[1;33m\u001b[0m\u001b[0m\n\u001b[0m\u001b[0;32m      2\u001b[0m \u001b[1;33m\u001b[0m\u001b[0m\n\u001b[0;32m      3\u001b[0m   \u001b[1;32mdef\u001b[0m \u001b[0m__init__\u001b[0m\u001b[1;33m(\u001b[0m\u001b[0mself\u001b[0m\u001b[1;33m,\u001b[0m \u001b[0mfront_spar_x\u001b[0m\u001b[1;33m,\u001b[0m \u001b[0mfront_spar_t\u001b[0m\u001b[1;33m,\u001b[0m \u001b[0mrear_spar_x\u001b[0m\u001b[1;33m,\u001b[0m \u001b[0mrear_spar_t\u001b[0m\u001b[1;33m,\u001b[0m \u001b[0mupper_panel_t\u001b[0m\u001b[1;33m,\u001b[0m \u001b[0mlower_panel_t\u001b[0m\u001b[1;33m,\u001b[0m \u001b[0mstringers\u001b[0m\u001b[1;33m:\u001b[0m \u001b[0mOptional\u001b[0m\u001b[1;33m[\u001b[0m\u001b[0mCollection\u001b[0m\u001b[1;33m[\u001b[0m\u001b[0mStringer\u001b[0m\u001b[1;33m]\u001b[0m\u001b[1;33m]\u001b[0m\u001b[1;33m=\u001b[0m\u001b[1;32mNone\u001b[0m\u001b[1;33m)\u001b[0m\u001b[1;33m:\u001b[0m\u001b[1;33m\u001b[0m\u001b[1;33m\u001b[0m\u001b[0m\n\u001b[0;32m      4\u001b[0m \u001b[1;33m\u001b[0m\u001b[0m\n\u001b[0;32m      5\u001b[0m     \u001b[0mfront_upper_z\u001b[0m\u001b[1;33m,\u001b[0m \u001b[0mfront_lower_z\u001b[0m \u001b[1;33m=\u001b[0m \u001b[0mairfoil_surface\u001b[0m\u001b[1;33m(\u001b[0m\u001b[0mfront_spar_x\u001b[0m\u001b[1;33m)\u001b[0m\u001b[1;33m\u001b[0m\u001b[1;33m\u001b[0m\u001b[0m\n",
            "\u001b[1;32m<ipython-input-20-abd93ead9016>\u001b[0m in \u001b[0;36mWingBox\u001b[1;34m()\u001b[0m\n\u001b[0;32m      1\u001b[0m \u001b[1;32mclass\u001b[0m \u001b[0mWingBox\u001b[0m\u001b[1;33m:\u001b[0m\u001b[1;33m\u001b[0m\u001b[1;33m\u001b[0m\u001b[0m\n\u001b[0;32m      2\u001b[0m \u001b[1;33m\u001b[0m\u001b[0m\n\u001b[1;32m----> 3\u001b[1;33m   \u001b[1;32mdef\u001b[0m \u001b[0m__init__\u001b[0m\u001b[1;33m(\u001b[0m\u001b[0mself\u001b[0m\u001b[1;33m,\u001b[0m \u001b[0mfront_spar_x\u001b[0m\u001b[1;33m,\u001b[0m \u001b[0mfront_spar_t\u001b[0m\u001b[1;33m,\u001b[0m \u001b[0mrear_spar_x\u001b[0m\u001b[1;33m,\u001b[0m \u001b[0mrear_spar_t\u001b[0m\u001b[1;33m,\u001b[0m \u001b[0mupper_panel_t\u001b[0m\u001b[1;33m,\u001b[0m \u001b[0mlower_panel_t\u001b[0m\u001b[1;33m,\u001b[0m \u001b[0mstringers\u001b[0m\u001b[1;33m:\u001b[0m \u001b[0mOptional\u001b[0m\u001b[1;33m[\u001b[0m\u001b[0mCollection\u001b[0m\u001b[1;33m[\u001b[0m\u001b[0mStringer\u001b[0m\u001b[1;33m]\u001b[0m\u001b[1;33m]\u001b[0m\u001b[1;33m=\u001b[0m\u001b[1;32mNone\u001b[0m\u001b[1;33m)\u001b[0m\u001b[1;33m:\u001b[0m\u001b[1;33m\u001b[0m\u001b[1;33m\u001b[0m\u001b[0m\n\u001b[0m\u001b[0;32m      4\u001b[0m \u001b[1;33m\u001b[0m\u001b[0m\n\u001b[0;32m      5\u001b[0m     \u001b[0mfront_upper_z\u001b[0m\u001b[1;33m,\u001b[0m \u001b[0mfront_lower_z\u001b[0m \u001b[1;33m=\u001b[0m \u001b[0mairfoil_surface\u001b[0m\u001b[1;33m(\u001b[0m\u001b[0mfront_spar_x\u001b[0m\u001b[1;33m)\u001b[0m\u001b[1;33m\u001b[0m\u001b[1;33m\u001b[0m\u001b[0m\n",
            "\u001b[1;31mTypeError\u001b[0m: 'ABCMeta' object is not subscriptable"
          ]
        }
      ],
      "source": [
        "class WingBox:\n",
        "\n",
        "  def __init__(self, front_spar_x, front_spar_t, rear_spar_x, rear_spar_t, upper_panel_t, lower_panel_t, stringers: Optional[Collection[Stringer]]=None):\n",
        "                \n",
        "    front_upper_z, front_lower_z = airfoil_surface(front_spar_x)\n",
        "    front_upper, front_lower = np.array([front_spar_x, front_upper_z]), np.array([front_spar_x, front_lower_z])\n",
        "    rear_upper_z, rear_lower_z = airfoil_surface(rear_spar_x)\n",
        "    rear_upper, rear_lower = np.array([rear_spar_x, rear_upper_z]), np.array([rear_spar_x, rear_lower_z])\n",
        "\n",
        "    self.points = {\"front_upper\":front_upper, \"front_lower\":front_lower, \"rear_upper\":rear_upper, \"rear_lower\":rear_lower}\n",
        "\n",
        "    front_spar = Panel(front_lower, front_upper, front_spar_t)\n",
        "    rear_spar = Panel(rear_lower, rear_upper, rear_spar_t)\n",
        "    upper_panel = Panel(front_upper, rear_upper, upper_panel_t)\n",
        "    lower_panel = Panel(front_lower, rear_lower, lower_panel_t)\n",
        "\n",
        "    self.panels = {\"front spar\":front_spar, \"rear_spar\":rear_spar, \"upper_panel\":upper_panel, \"lower_panel\":lower_panel} \n",
        "  \n",
        "    self.stringers = stringers\n",
        "\n",
        "  def I_xc(self, y):\n",
        "    c = chord_length(y)\n",
        "    A = 0\n",
        "    Az = 0\n",
        "    I_xc = 0\n",
        "\n",
        "    for panel in self.panels:\n",
        "      A += panel.A(c)\n",
        "      Az += panel.Q_x(c)\n",
        "    \n",
        "    if self.stringers is not None:\n",
        "      for stringer in self.stringers:\n",
        "        if stringer.length < y:\n",
        "          pass\n",
        "        A += stringer.A\n",
        "        Az += stringer.Q_x(c) \n",
        "    \n",
        "    z_centroid = Az / A\n",
        "\n",
        "    \n",
        "    \n",
        "\n",
        "    if self.stringers is not None:\n",
        "      for stringer in self.stringers:\n",
        "        if stringer.length < y:\n",
        "          pass\n",
        "        I_xc += stringer.I_xc(c, z_centroid)\n",
        "\n",
        "    return I_xc\n",
        "  \n",
        "\n",
        "  def J(self, y):\n",
        "    # Calculate area inside box\n",
        "    x_distance = self.points[1][0] - self.points[0][0]\n",
        "    A = x_distance/2*(self.panels[\"front spar\"].h + self.panels[\"front spar\"].h)\n",
        "\n",
        "    integral = 0\n",
        "    for panel in self.panels:\n",
        "      integral += 1/panel.t\n",
        "    raise NotImplementedError\n",
        "    "
      ]
    },
    {
      "cell_type": "code",
      "execution_count": null,
      "metadata": {},
      "outputs": [],
      "source": []
    }
  ],
  "metadata": {
    "colab": {
      "name": "Main",
      "provenance": []
    },
    "interpreter": {
      "hash": "0b4a7dbb222017a84a38191b0c2a2c1c41e2ed9f2a23de9bf64fcf36cba29e4f"
    },
    "kernelspec": {
      "display_name": "Python 3.8.8 64-bit ('base': conda)",
      "name": "python3"
    },
    "language_info": {
      "codemirror_mode": {
        "name": "ipython",
        "version": 3
      },
      "file_extension": ".py",
      "mimetype": "text/x-python",
      "name": "python",
      "nbconvert_exporter": "python",
      "pygments_lexer": "ipython3",
      "version": "3.8.8"
    }
  },
  "nbformat": 4,
  "nbformat_minor": 2
}
