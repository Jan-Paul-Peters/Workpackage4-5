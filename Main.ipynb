{
  "cells": [
    {
      "cell_type": "code",
      "execution_count": 135,
      "metadata": {
        "id": "3T0RmFWlVuuq"
      },
      "outputs": [],
      "source": [
        "import numpy as np\n",
        "import numpy.linalg as LA\n",
        "from scipy.integrate import quad\n",
        "from scipy.interpolate import interp1d\n",
        "from matplotlib import pyplot as plt\n",
        "from functools import lru_cache"
      ]
    },
    {
      "cell_type": "code",
      "execution_count": 136,
      "metadata": {},
      "outputs": [],
      "source": [
        "from typing import Any, Iterable, Optional"
      ]
    },
    {
      "cell_type": "code",
      "execution_count": 137,
      "metadata": {},
      "outputs": [],
      "source": [
        "from NACA_63210 import airfoil_surface\n",
        "from Lift_diagrams import chord, V_distribution, M_distribution, T_distribution, q, Cn_distribution, dynamic_p"
      ]
    },
    {
      "cell_type": "code",
      "execution_count": 138,
      "metadata": {},
      "outputs": [],
      "source": [
        "b2 = 16.07/2\n",
        "root_c = 2.46 \n",
        "tip_c = 1.11\n",
        "E = 68.9 * 10 ** 9\n",
        "G = 26 * 10 ** 9\n",
        "UTS = 290 * 10 ** 6\n",
        "YieldStregth = 240 * 10 ** 6\n",
        "rho_al = 2700\n",
        "y = np.linspace(0, b2, 800)\n",
        "rho_FL330 = 0.418501741\n",
        "q_crit = dynamic_p(rho_FL330, 250.18)\n",
        "CL_crit = 0.514"
      ]
    },
    {
      "cell_type": "code",
      "execution_count": null,
      "metadata": {},
      "outputs": [],
      "source": [
        "def interp_on_domain(range_object):\n",
        "    def wrapper(func):\n",
        "        @lru_cache(maxsize=None)\n",
        "        def make_interp1d(*args, **kwargs):     \n",
        "            return interp1d(range_object, func(range_object, *args, **kwargs), \n",
        "                            kind='cubic', fill_value='extrapolate')\n",
        "            \n",
        "        def return_func(y, *args, **kwargs):\n",
        "            interpreted_func = make_interp1d(*args, **kwargs)\n",
        "            return interpreted_func(y)\n",
        "\n",
        "        return return_func\n",
        "\n",
        "    return wrapper"
      ]
    },
    {
      "cell_type": "code",
      "execution_count": 139,
      "metadata": {},
      "outputs": [],
      "source": [
        "class Panel:\n",
        "    def __init__(self, point1, point2, thickness, span=b2):\n",
        "        \"\"\"point1 and point2 are coordinates relative to the chord, thickness in mm\"\"\"\n",
        "        self.p1 = point1\n",
        "        self.p2 = point2\n",
        "        self.vector = point2 - point1\n",
        "        self.h = LA.norm(self.vector)\n",
        "        self.t = thickness\n",
        "        # z is the vertical distance from the x axis relative to chord\n",
        "        self.z = (point1 + self.vector/2)[1]\n",
        "        self.span = span\n",
        "\n",
        "    def l(self, y):\n",
        "        return self.h * chord(y) * (y <= self.span)\n",
        "\n",
        "    def A(self, y):\n",
        "        return self.h * chord(y) * self.t(y) * (y <= self.span)\n",
        "    \n",
        "    def Q_x(self, y):\n",
        "        \"\"\"Returns first moment of area about z=0\"\"\"\n",
        "        return self.z * chord(y) * self.A(y) * (y <= self.span)\n",
        "    \n",
        "    def I_xc(self, y):\n",
        "        \"\"\"Returns second moment of area about own axis\"\"\"\n",
        "        cos_a = self.vector[0] / self.h\n",
        "        sin_a = self.vector[1] / self.h\n",
        "\n",
        "        return (self.t(y) * (self.h*chord(y)) * (self.t(y)**2 * cos_a**2 \n",
        "            + (self.h*chord(y))**2 * sin_a**2) / 12 * (y <= self.span))\n",
        "    \n",
        "    def I_xx(self, y, z_centroid):\n",
        "        \"\"\"Returns second moment of area about centroid\"\"\"\n",
        "        d = self.z * chord(y) - z_centroid\n",
        "        return self.I_xc(y) + self.A(y) * d**2 * (y <= self.span)\n",
        "    \n",
        "    def z_at_x(self, x):\n",
        "        if self.vector[0] == 0:\n",
        "            raise ValueError(\"Horizontal plate does not have a heigh as a function of x\")\n",
        "        return (x - self.p1[0])/self.vector[0] * self.vector[1] + self.p1[1]\n"
      ]
    },
    {
      "cell_type": "code",
      "execution_count": 140,
      "metadata": {},
      "outputs": [],
      "source": [
        "class Stringer:\n",
        "    def __init__(self, area, point, length):\n",
        "        \"\"\"area is in square mm, point is the coordinate realtive to the chord and length is the spanwise length of the stringer\"\"\"\n",
        "        self.A = area * 1e-6\n",
        "        self.point = point\n",
        "        self.length = length\n",
        "    \n",
        "    def Q_x(self, y):\n",
        "        \"\"\"Returns first moment of area about z=0\"\"\"\n",
        "        return self.A * self.point[1] * chord(y)\n",
        "\n",
        "    def I_xc(self, y, z_centroid):\n",
        "        \"\"\"Returns second moment of area about centroid\"\"\"\n",
        "        \n",
        "        return self.A * (self.point[1] * chord(y) - z_centroid)**2 \n"
      ]
    },
    {
      "cell_type": "code",
      "execution_count": 472,
      "metadata": {
        "colab": {
          "base_uri": "https://localhost:8080/",
          "height": 133
        },
        "id": "1iezrXftI4yw",
        "outputId": "192889cf-c441-48e1-d09a-5fd1f90c717a"
      },
      "outputs": [],
      "source": [
        "class WingBox:\n",
        "\n",
        "  def __init__(self, front_spar_x, front_spar_t, rear_spar_x, rear_spar_t, \n",
        "    upper_panel_t, lower_panel_t, stringers=None, \n",
        "    middle_spar_x=None, middle_spar_t=None, middle_spar_span=None):\n",
        "    if middle_spar_x is None:\n",
        "      self.single_cell = True\n",
        "    else:\n",
        "      self.single_cell = False\n",
        "\n",
        "    front_upper_z, front_lower_z = airfoil_surface(front_spar_x)\n",
        "    front_upper = np.array([front_spar_x, front_upper_z]) \n",
        "    front_lower = np.array([front_spar_x, front_lower_z])\n",
        "    rear_upper_z, rear_lower_z = airfoil_surface(rear_spar_x)\n",
        "    rear_upper = np.array([rear_spar_x, rear_upper_z])\n",
        "    rear_lower = np.array([rear_spar_x, rear_lower_z])\n",
        "\n",
        "    self.points = {'front_upper':front_upper, 'front_lower':front_lower, \n",
        "      'rear_upper':rear_upper, 'rear_lower':rear_lower}\n",
        "\n",
        "    if not self.single_cell:\n",
        "      middle_upper_z, middle_lower_z = airfoil_surface(middle_spar_x)\n",
        "      middle_upper = np.array([middle_spar_x, middle_upper_z])\n",
        "      middle_lower = np.array([middle_spar_x, middle_lower_z])\n",
        "      self.points['middle_upper'] = middle_upper\n",
        "      self.points['middle_lower'] = middle_lower\n",
        "\n",
        "    self.panels = {}\n",
        "\n",
        "    if self.single_cell:\n",
        "      front_spar = Panel(front_lower, front_upper, front_spar_t)\n",
        "      rear_spar = Panel(rear_lower, rear_upper, rear_spar_t)\n",
        "      upper_panel = Panel(front_upper, rear_upper, upper_panel_t)\n",
        "      lower_panel = Panel(front_lower, rear_lower, lower_panel_t)\n",
        "      self.panels = {'front_spar':front_spar, 'rear_spar':rear_spar, \n",
        "        'upper_panel':upper_panel, 'lower_panel':lower_panel} \n",
        "    else:\n",
        "      front_spar = Panel(front_lower, front_upper, front_spar_t)\n",
        "      rear_spar = Panel(rear_lower, rear_upper, rear_spar_t)\n",
        "      upper_panel_1 = Panel(front_upper, middle_upper, upper_panel_t)\n",
        "      upper_panel_2 = Panel(middle_upper, rear_upper, upper_panel_t)\n",
        "      lower_panel_1 = Panel(front_lower, middle_lower, lower_panel_t)\n",
        "      lower_panel_2 = Panel(middle_lower, rear_lower, lower_panel_t)\n",
        "      middle_spar = Panel(middle_lower, middle_upper, middle_spar_t, middle_spar_span)\n",
        "      self.panels = {'front_spar':front_spar, 'rear_spar':rear_spar, \n",
        "        'upper_panel_1':upper_panel_1, 'upper_panel_2':upper_panel_2, \n",
        "        'lower_panel_1':lower_panel_1, 'lower_panel_2':lower_panel_2,\n",
        "        'middle_spar':middle_spar}\n",
        "      self.left_panels = {'front_spar':front_spar, 'upper_panel_1':upper_panel_1, \n",
        "        'lower_panel_1':lower_panel_1, 'middle_spar':middle_spar}\n",
        "      self.right_panels = {'rear_spar':rear_spar, 'upper_panel_2':upper_panel_2, \n",
        "        'lower_panel_2':lower_panel_2, 'middle_spar':middle_spar}\n",
        "  \n",
        "    self.stringers = stringers\n",
        "\n",
        "  def A(self, y):\n",
        "    A = 0\n",
        "    for panel in self.panels.values():\n",
        "      A += panel.A(y)\n",
        "    \n",
        "    if self.stringers is not None:\n",
        "      for stringer in self.stringers:\n",
        "        if stringer.length < y:\n",
        "          pass\n",
        "        else:\n",
        "          A += stringer.A\n",
        "    return A\n",
        "  \n",
        "  def w(self, y):\n",
        "    return self.A(y)*rho_al\n",
        "\n",
        "  @property\n",
        "  def W(self):\n",
        "    return quad(self.w, 0, b2)[0] * 2\n",
        "\n",
        "  def I_xc(self, y):\n",
        "    c = chord(y)\n",
        "    A = 0\n",
        "    Az = 0\n",
        "    I_xc = 0\n",
        "\n",
        "    for panel in self.panels.values():\n",
        "      A += panel.A(y)\n",
        "      Az += panel.Q_x(y)\n",
        "    \n",
        "    if self.stringers is not None:\n",
        "      for stringer in self.stringers:\n",
        "        A += stringer.A * (stringer.length >= y)\n",
        "        Az += stringer.Q_x(y) * (stringer.length >= y)\n",
        "    \n",
        "    z_centroid = Az / A\n",
        "\n",
        "    for panel in self.panels.values():\n",
        "      I_xc += panel.I_xx(y, z_centroid)\n",
        "\n",
        "    if self.stringers is not None:\n",
        "      for stringer in self.stringers:\n",
        "        I_xc += stringer.I_xc(y, z_centroid) * (stringer.length >= y)\n",
        "\n",
        "    return I_xc\n",
        "  \n",
        "  \n",
        "  def J_single_cell(self, y):\n",
        "    # Calculate area inside box\n",
        "    width = self.points[\"rear_upper\"][0] - self.points[\"front_upper\"][0]\n",
        "    A = width/2*(self.panels[\"front_spar\"].h + self.panels[\"rear_spar\"].h) * chord(y)**2\n",
        "    integral = 0\n",
        "    for panel in self.panels.values():\n",
        "      integral += panel.h * chord(y)/panel.t(y)\n",
        "    return 4 * A**2 / integral\n",
        "\n",
        "  def J_multi_cell(self, y):\n",
        "    panels = self.panels\n",
        "    width_1 = self.points[\"middle_upper\"][0] - self.points[\"front_upper\"][0]\n",
        "    width_2 = self.points[\"rear_upper\"][0] - self.points[\"middle_upper\"][0]\n",
        "    A_1 = width_1/2*(panels[\"front_spar\"].h + panels[\"middle_spar\"].h) * chord(y)**2\n",
        "    A_2 = width_1/2*(panels[\"rear_spar\"].h + panels[\"middle_spar\"].h) * chord(y)**2\n",
        "\n",
        "    # a * q1 + b * q2 - dthetadx = 0\n",
        "    # c * q1 + d * q2 - dthetadx = 0\n",
        "    # e * q1 + f * q2 - 0 = T\n",
        "\n",
        "    # q1 is shear flow in left box, q2 shear flow in the right box\n",
        "    a = 0\n",
        "    for panel in self.left_panels.values():\n",
        "      a += panel.l(y)/panel.t(y)\n",
        "    a *= 1/(2*A_1*G)\n",
        "    b = -panels['middle_spar'].l(y)/panels['middle_spar'].t(y) /(2*A_1*G)\n",
        "\n",
        "    d = 0\n",
        "    for panel in self.right_panels.values():\n",
        "      d += panel.l(y)/panel.t(y)\n",
        "    d *= 1/(2*A_2*G)\n",
        "    c = -panels['middle_spar'].l(y)/panels['middle_spar'].t(y) /(2*A_2*G)\n",
        "\n",
        "    e = 2*A_1\n",
        "    f = 2*A_2\n",
        "    T = 1\n",
        "\n",
        "    system = np.array([[a, b, np.broadcast_to(-1, np.shape(a))],\n",
        "                       [c, d, np.broadcast_to(-1, np.shape(a))],\n",
        "                       [e, f, np.broadcast_to(0, np.shape(a))]])\n",
        "    \n",
        "    if system.ndim > 2:\n",
        "      system = np.moveaxis(system, 2, 0)\n",
        "      N, M, M = np.shape(system)\n",
        "      righthandside = np.broadcast_to(np.array([0, 0, T]), (N, M))\n",
        "      q1, q2, dthetadx = np.swapaxes(LA.solve(system, righthandside), 0, 1)\n",
        "    else:\n",
        "      q1, q2, dthetadx = LA.solve(system, np.array([0, 0, T]))\n",
        "\n",
        "    J = T/(G*dthetadx)\n",
        "    return J\n",
        "    \n",
        "  def J(self, y):\n",
        "    if self.single_cell:\n",
        "      return self.J_single_cell(y)\n",
        "    else:\n",
        "      return self.J_multi_cell(y)\n",
        "\n",
        "  def plot(self):\n",
        "    x = np.linspace(0, 1, 100)\n",
        "    plt.plot(x, airfoil_surface(x)[0], color='grey', linewidth=1)\n",
        "    plt.plot(x, airfoil_surface(x)[1], color='grey', linewidth=1)\n",
        "    for panel in self.panels.values():\n",
        "      if panel.vector[0] != 0:\n",
        "        x = np.linspace(panel.p1[0], panel.p2[0], 100)\n",
        "        plt.plot(x, panel.z_at_x(x), color='black', linewidth=3)\n",
        "      else:\n",
        "        x = panel.p1[0]\n",
        "        z = np.linspace(panel.p1[1], panel.p2[1], 100)\n",
        "        plt.plot(np.full(100, x), z, color='black', linewidth=3)\n",
        "        plt.gca().set_aspect('equal', adjustable='box')\n",
        "        plt.gcf().set_size_inches(15, 15)\n",
        "        plt.gcf().set_dpi(200)\n",
        "      "
      ]
    },
    {
      "cell_type": "code",
      "execution_count": null,
      "metadata": {},
      "outputs": [],
      "source": [
        "V = V_distribution(CL_crit, q_crit)\n",
        "M = M_distribution(V)\n",
        "T = T_distribution(CL_crit, q_crit)"
      ]
    },
    {
      "cell_type": "markdown",
      "metadata": {},
      "source": [
        "DISPLACEMENT"
      ]
    },
    {
      "cell_type": "code",
      "execution_count": 172,
      "metadata": {},
      "outputs": [],
      "source": [
        "@interp_on_domain(y)\n",
        "def d2zdx2(y, wingbox: WingBox):\n",
        "    \"\"\"calculate second derivative of the displacement\"\"\"\n",
        "    return -(M(y)/E/wingbox.I_xc(y))\n",
        "\n",
        "@interp_on_domain(y)\n",
        "def dzdx(y, wingbox: WingBox):\n",
        "    \"\"\"calculate first derivative through integration\"\"\"\n",
        "    quad_vec = np.vectorize(quad)\n",
        "    return quad_vec(d2zdx2, 0, y, args=(wingbox))[0]\n",
        "    \n",
        "\n",
        "def z(y, wingbox: WingBox):\n",
        "    \"\"\"calculate displacement through integration\"\"\"\n",
        "    quad_vec = np.vectorize(quad)\n",
        "    return quad_vec(dzdx, 0, y, args=(wingbox))[0]\n",
        "\n",
        "zperc = lambda y: z(y, wingbox_iteration_1) / b2 * 50"
      ]
    },
    {
      "cell_type": "markdown",
      "metadata": {},
      "source": [
        "ROTATION"
      ]
    },
    {
      "cell_type": "code",
      "execution_count": 177,
      "metadata": {},
      "outputs": [],
      "source": [
        "@interp_on_domain(y)\n",
        "def dthetadx(y, wingbox: WingBox):\n",
        "    \"\"\"calculate first derivative of the rotation\"\"\"\n",
        "    return T(y)*G/wingbox.J(y)\n",
        "\n",
        "def theta(y, wingbox: WingBox):\n",
        "    \"\"\"calculate rotation through integration\"\"\"\n",
        "    y_range = np.linspace(0, b2, 800)\n",
        "    func = interp1d(y_range, dthetadx(y, wingbox), kind='cubic', fill_value='extrapolate')\n",
        "    return [quad(func, 0, i)[0] * 180 / np.pi for i in y]\n",
        "    "
      ]
    },
    {
      "cell_type": "code",
      "execution_count": null,
      "metadata": {},
      "outputs": [],
      "source": [
        "def t(t_start, t_end):\n",
        "    t_start *= 1e-3\n",
        "    t_end *= 1e-3\n",
        "    return lambda y: t_start - (t_start - t_end) / b2 * y"
      ]
    },
    {
      "cell_type": "code",
      "execution_count": 477,
      "metadata": {},
      "outputs": [],
      "source": [
        "t_5 = t(5, 5)\n",
        "t_3 = t(3, 3)\n",
        "t_2 = t(2, 2)\n",
        "t_1 = t(1, 1)\n",
        "stringer_u1 = Stringer(50, (0.3, 0.05), 4)\n",
        "stringer_u2 = Stringer(50, (0.4, 0.05), 4)\n",
        "stringer_u3 = Stringer(50, (0.5, 0.05), 4)\n",
        "stringer_l1 = Stringer(50, (0.4, -0.05), 4)\n",
        "stringers = [stringer_u1, stringer_u2, stringer_u3, stringer_l1]\n",
        "\n",
        "wingbox_iteration_1_stringer = WingBox(0.2, t_1, 0.6, t_1, t_1, t_1, stringers=stringers)\n",
        "\n",
        "wingbox_iteration_1 = WingBox(0.2, t_1, 0.6, t_1, t_1, t_1)\n",
        "wingbox_iteration_2 = WingBox(0.2, t(2,1), 0.6, t(2,1), t(3,1), t(3,1))"
      ]
    },
    {
      "cell_type": "code",
      "execution_count": 478,
      "metadata": {},
      "outputs": [
        {
          "data": {
            "text/plain": [
              "[<matplotlib.lines.Line2D at 0x18ed8d46280>]"
            ]
          },
          "execution_count": 478,
          "metadata": {},
          "output_type": "execute_result"
        },
        {
          "data": {
            "image/png": "[encoded data removed]",
            "text/plain": [
              "<Figure size 432x288 with 1 Axes>"
            ]
          },
          "metadata": {
            "needs_background": "light"
          },
          "output_type": "display_data"
        }
      ],
      "source": [
        "plt.plot(y, d2zdx2(y, wingbox_iteration_1_stringer))\n",
        "plt.plot(y, d2zdx2(y, wingbox_iteration_1))\n",
        "# plt.gca().set_aspect('equal', adjustable='box')"
      ]
    },
    {
      "cell_type": "code",
      "execution_count": null,
      "metadata": {},
      "outputs": [],
      "source": []
    },
    {
      "cell_type": "code",
      "execution_count": 451,
      "metadata": {},
      "outputs": [
        {
          "data": {
            "image/png": "[encoded data removed]",
            "text/plain": [
              "<Figure size 3000x3000 with 1 Axes>"
            ]
          },
          "metadata": {
            "needs_background": "light"
          },
          "output_type": "display_data"
        }
      ],
      "source": [
        "wingbox_iteration_4.plot()"
      ]
    },
    {
      "cell_type": "code",
      "execution_count": null,
      "metadata": {},
      "outputs": [],
      "source": []
    }
  ],
  "metadata": {
    "colab": {
      "name": "Main",
      "provenance": []
    },
    "interpreter": {
      "hash": "0b4a7dbb222017a84a38191b0c2a2c1c41e2ed9f2a23de9bf64fcf36cba29e4f"
    },
    "kernelspec": {
      "display_name": "Python 3.8.8 64-bit ('base': conda)",
      "name": "python3"
    },
    "language_info": {
      "codemirror_mode": {
        "name": "ipython",
        "version": 3
      },
      "file_extension": ".py",
      "mimetype": "text/x-python",
      "name": "python",
      "nbconvert_exporter": "python",
      "pygments_lexer": "ipython3",
      "version": "3.8.8"
    }
  },
  "nbformat": 4,
  "nbformat_minor": 2
}
