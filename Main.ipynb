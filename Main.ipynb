{
  "cells": [
    {
      "cell_type": "code",
      "execution_count": 2,
      "metadata": {
        "id": "3T0RmFWlVuuq"
      },
      "outputs": [],
      "source": [
        "import numpy as np\n",
        "import numpy.linalg as LA"
      ]
    },
    {
      "cell_type": "code",
      "execution_count": 2,
      "metadata": {
        "id": "0RPg3jA1HBxq"
      },
      "outputs": [],
      "source": [
        "def V_z(y):\n",
        "  raise NotImplementedError"
      ]
    },
    {
      "cell_type": "code",
      "execution_count": 3,
      "metadata": {
        "id": "Wd1nKsbtGxh3"
      },
      "outputs": [],
      "source": [
        "def T(y):\n",
        "  raise NotImplementedError"
      ]
    },
    {
      "cell_type": "code",
      "execution_count": 4,
      "metadata": {
        "id": "M7PjhQe6FRh6"
      },
      "outputs": [],
      "source": [
        "def M_x(y):\n",
        "  raise NotImplementedError"
      ]
    },
    {
      "cell_type": "code",
      "execution_count": null,
      "metadata": {},
      "outputs": [],
      "source": [
        "b2 = 16.07/2\n",
        "root_c = np.nan \n",
        "tip_c = np.nan\n",
        "\n",
        "def chord_length(y):\n",
        "    \"\"\"Returns chord length at spanwise posistion\"\"\"\n",
        "    return root_c + y * (tip_c - root_c)/b2\n",
        "\n",
        "def airfoil_surface(cls, x):\n",
        "    \"\"\"Returns upper and lower coordinate of airfoil surface for a chordwise posistion\"\"\"\n",
        "    raise NotImplementedError\n",
        "    return z_upper, z_lower"
      ]
    },
    {
      "cell_type": "code",
      "execution_count": null,
      "metadata": {},
      "outputs": [],
      "source": [
        "class Panel:\n",
        "\n",
        "    def __init__(self, point1:np.array, point2:np.array, thickness):\n",
        "        \"\"\"point1 and point2 are coordinates relative to the chord, thickness in mm\"\"\"\n",
        "        self.p1 = point1\n",
        "        self.p2 = point2\n",
        "        self.vector = point2 - point1\n",
        "        self.h = LA.norm(self.vector)\n",
        "        self.t = thickness/1000\n",
        "        # z is the vertical distance from the x axis relative to chord\n",
        "        self.z = (point1 + self.vector/2)[0]\n",
        "\n",
        "    def A(self, chord):\n",
        "        return self.h * chord * self.t\n",
        "    \n",
        "    def Q_x(self, chord):\n",
        "        \"\"\"Returns first moment of area about z=0\"\"\"\n",
        "        return self.z * chord * self.area(chord)\n",
        "    \n",
        "    def I_xc(self, chord):\n",
        "        \"\"\"Returns second moment of area about own axis\"\"\"\n",
        "        cos_a = self.vector[0] / self.h\n",
        "        sin_a = self.vector[1] / self.h\n",
        "\n",
        "        return self.t * self.h * (self.t**2 * cos_a**2 + self.h**2 * sin_a**2)\n",
        "    \n",
        "    def I_xc(self, chord, z_centroid):\n",
        "        \"\"\"Returns second moment of area about centroid\"\"\"\n",
        "        d = self.z * chord - z_centroid\n",
        "        return self.I_xc(chord) + self.area(chord) * d**2\n",
        "    \n"
      ]
    },
    {
      "cell_type": "code",
      "execution_count": 9,
      "metadata": {
        "colab": {
          "base_uri": "https://localhost:8080/",
          "height": 133
        },
        "id": "1iezrXftI4yw",
        "outputId": "192889cf-c441-48e1-d09a-5fd1f90c717a"
      },
      "outputs": [],
      "source": [
        "class WingBox:\n",
        "\n",
        "  def __init__(self, front_spar_x, front_spar_t, rear_spar_x, rear_spar_t, upper_panel_t, lower_panel_t, upper_stringers=None, \n",
        "                lower_stringers=None):\n",
        "    front_upper_z, front_lower_z = airfoil_surface(front_spar_x)\n",
        "    self.front_upper, self.front_lower = np.array([front_spar_x, front_upper_z]), np.array([front_spar_x, front_lower_z])\n",
        "    rear_upper_z, rear_lower_z = airfoil_surface(rear_spar_x)\n",
        "    self.rear_upper, self.rear_lower = np.array([rear_spar_x, rear_upper_z]), np.array([rear_spar_x, rear_lower_z])\n",
        "\n",
        "    front_spar = Panel(self.front_lower, self.front_upper, front_spar_t)\n",
        "    rear_spar = Panel(self.rear_lower, self.rear_upper, rear_spar_t)\n",
        "    upper_panel = Panel(self.front_upper, self.rear_upper, upper_panel_t)\n",
        "    lower_panel = Panel(self.front_lower, self.rear_lower, lower_panel_t)\n",
        "\n",
        "    self.panels = (front_spar, rear_spar, upper_panel, lower_panel)\n",
        "  \n",
        "    self.upper_stringers = upper_stringers\n",
        "    self.lower_stringer = lower_stringers\n",
        "\n",
        "  def z_centroid(self, y):\n",
        "    \"\"\"Returns the z coordinate of the centroid of the cross section at a spanwise posistion\"\"\"\n",
        "    # # First moment of area is calculated as Sum Az / Sum A\n",
        "    # # vectors that represent the \n",
        "    # c = chord_length(y)\n",
        "    # # represent the panels as vectors\n",
        "    # front_spar = self.front_spar * c\n",
        "    # rear_spar = self.rear_spar * c\n",
        "    # upper_plate = self.upper_plate * c\n",
        "    # lower_plate = self.lower_plate * c\n",
        "\n",
        "    # front_spar_A = LA.norm(front_spar) * self.front_spar_t\n",
        "    # front_spar_z = front_spar/2 + self.front_lower\n",
        "    # rear_spar_A = LA.norm(rear_spar) * self.rear_spar_t\n",
        "    # rear_spar_z = rear_spar/2 + self.rear_lower\n",
        "    # upper_plate_A = LA.norm(upper_plate) * self.upper_plate_t\n",
        "    # upper_plate_z = upper_plate/2 + self.front_upper\n",
        "    # lower_plate_A = LA.norm(lower_plate) * self.lower_plate_t\n",
        "    # lower_plate_z = lower_plate/2 + self.lower_plate_t\n",
        "\n",
        "    # Az = front_spar_A*front_spar_z + rear_spar_A*rear_spar_z + upper_plate_A*upper_plate_z + lower_plate_A*lower_plate_z\n",
        "    # A = front_spar_A + rear_spar_A + upper_plate_A + lower_plate_A\n",
        "    \n",
        "    # for stringer in self.upper_stringers:\n",
        "    #   stringer_A, stringer_x, stringer_end, offset = stringer\n",
        "    #   # making the stringer x coordinate relative to the front spar and multiplying by the chord\n",
        "    #   stringer_x = (self.front_upper[0] - stringer_x)*c\n",
        "    #   if stringer_end > y:\n",
        "    #     pass\n",
        "    #   stringer_z = self.front_upper + upper_plate[1] * stringer_x/upper_plate[0] + offset * upper_plate[0]/LA.norm(upper_plate)\n",
        "    #   Az += stringer_A * stringer_z\n",
        "    #   A += stringer_A\n",
        "\n",
        "    # for stringer in self.lower_stringers:\n",
        "    #   stringer_A, stringer_x, stringer_end, offset = stringer\n",
        "    #   # making the stringer x coordinate relative to the front spar and multiplying by the chord\n",
        "    #   stringer_x = (self.front_upper[0] - stringer_x)*c\n",
        "    #   if stringer_end > y:\n",
        "    #     pass\n",
        "    #   stringer_z = self.front_upper + lower_plate[1] * stringer_x/lower_plate[0] + offset * lower_plate[0]/LA.norm(lower_plate)\n",
        "    #   Az += stringer_A * stringer_z\n",
        "    #   A += stringer_A\n",
        "\n",
        "    # return Az/A\n",
        "    pass\n",
        "\n",
        "  def I_xx(self, y):\n",
        "    c = chord_length(y)\n",
        "    z = self.z_centroid(y)\n",
        "    A = 0\n",
        "    Az = 0\n",
        "\n",
        "    for panel in self.panels:\n",
        "      \n",
        "\n",
        "  \n",
        "\n",
        "\n",
        "\n",
        "  def J(self, y):\n",
        "    raise NotImplementedError"
      ]
    },
    {
      "cell_type": "code",
      "execution_count": 1,
      "metadata": {
        "colab": {
          "base_uri": "https://localhost:8080/"
        },
        "id": "qimFQ9L4Vs4o",
        "outputId": "07f16a93-9acf-40f9-d5d8-e4b35bcc8509"
      },
      "outputs": [
        {
          "ename": "NameError",
          "evalue": "name 'np' is not defined",
          "output_type": "error",
          "traceback": [
            "\u001b[1;31m---------------------------------------------------------------------------\u001b[0m",
            "\u001b[1;31mNameError\u001b[0m                                 Traceback (most recent call last)",
            "\u001b[1;32m<ipython-input-1-1a01448cafed>\u001b[0m in \u001b[0;36m<module>\u001b[1;34m\u001b[0m\n\u001b[1;32m----> 1\u001b[1;33m \u001b[0mstringers\u001b[0m \u001b[1;33m=\u001b[0m \u001b[0mnp\u001b[0m\u001b[1;33m.\u001b[0m\u001b[0marray\u001b[0m\u001b[1;33m(\u001b[0m\u001b[1;33m[\u001b[0m\u001b[1;33m[\u001b[0m\u001b[1;34m\"area\"\u001b[0m\u001b[1;33m,\u001b[0m \u001b[1;34m\"chord\"\u001b[0m\u001b[1;33m,\u001b[0m \u001b[1;34m\"span\"\u001b[0m\u001b[1;33m,\u001b[0m \u001b[1;34m\"\"\u001b[0m\u001b[1;33m]\u001b[0m\u001b[1;33m,\u001b[0m \u001b[1;33m[\u001b[0m\u001b[1;34m\"area\"\u001b[0m\u001b[1;33m,\u001b[0m \u001b[1;34m\"chord\"\u001b[0m\u001b[1;33m,\u001b[0m \u001b[1;34m\"span\"\u001b[0m\u001b[1;33m]\u001b[0m\u001b[1;33m]\u001b[0m\u001b[1;33m)\u001b[0m\u001b[1;33m\u001b[0m\u001b[1;33m\u001b[0m\u001b[0m\n\u001b[0m\u001b[0;32m      2\u001b[0m \u001b[0mstringers\u001b[0m\u001b[1;33m\u001b[0m\u001b[1;33m\u001b[0m\u001b[0m\n",
            "\u001b[1;31mNameError\u001b[0m: name 'np' is not defined"
          ]
        }
      ],
      "source": [
        "stringers = np.array([[\"area\", \"chord\", \"span\", \"offset\"], [\"area\", \"chord\", \"span\"]])\n",
        "stringers"
      ]
    },
    {
      "cell_type": "code",
      "execution_count": 13,
      "metadata": {
        "id": "TgIZKJ_zW4K4"
      },
      "outputs": [
        {
          "data": {
            "text/plain": [
              "2.5"
            ]
          },
          "execution_count": 13,
          "metadata": {},
          "output_type": "execute_result"
        }
      ],
      "source": []
    },
    {
      "cell_type": "code",
      "execution_count": null,
      "metadata": {},
      "outputs": [],
      "source": []
    }
  ],
  "metadata": {
    "colab": {
      "name": "Main",
      "provenance": []
    },
    "interpreter": {
      "hash": "0b4a7dbb222017a84a38191b0c2a2c1c41e2ed9f2a23de9bf64fcf36cba29e4f"
    },
    "kernelspec": {
      "display_name": "Python 3.8.8 64-bit ('base': conda)",
      "name": "python3"
    },
    "language_info": {
      "codemirror_mode": {
        "name": "ipython",
        "version": 3
      },
      "file_extension": ".py",
      "mimetype": "text/x-python",
      "name": "python",
      "nbconvert_exporter": "python",
      "pygments_lexer": "ipython3",
      "version": "3.8.8"
    }
  },
  "nbformat": 4,
  "nbformat_minor": 2
}
