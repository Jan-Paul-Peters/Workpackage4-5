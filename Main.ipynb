{
  "cells": [
    {
      "cell_type": "code",
      "execution_count": null,
      "metadata": {
        "id": "3T0RmFWlVuuq"
      },
      "outputs": [],
      "source": [
        "import numpy as np\n",
        "import numpy.linalg as LA\n",
        "from scipy.integrate import quad\n",
        "from scipy.interpolate import interp1d\n",
        "from matplotlib import pyplot as plt"
      ]
    },
    {
      "cell_type": "code",
      "execution_count": null,
      "metadata": {},
      "outputs": [],
      "source": [
        "from NACA_63210 import airfoil_surface\n",
        "from Lift_diagrams import chord, V_distribution, M_distribution, T_distribution, q, Cn_distribution, dynamic_p"
      ]
    },
    {
      "cell_type": "code",
      "execution_count": null,
      "metadata": {},
      "outputs": [],
      "source": [
        "b2 = 16.07/2\n",
        "root_c = 2.46 \n",
        "tip_c = 1.11\n",
        "E = 68.9 * 10 ** 9\n",
        "G = 26 * 10 ** 9\n",
        "UTS = 290 * 10 ** 6\n",
        "YieldStregth = 240 * 10 ** 6\n",
        "rho_al = 2700\n",
        "y = np.linspace(0, b2, 800)\n",
        "rho_FL330 = 0.418501741\n",
        "q_crit = dynamic_p(rho_FL330, 250.18)\n",
        "CL_crit = 0.514\n",
        "\n",
        "def chord_length(y):\n",
        "    \"\"\"Returns chord length at spanwise posistion\"\"\"\n",
        "    return root_c + y * (tip_c - root_c)/b2"
      ]
    },
    {
      "cell_type": "code",
      "execution_count": 143,
      "metadata": {},
      "outputs": [],
      "source": [
        "class Panel:\n",
        "    def __init__(self, point1, point2, thickness):\n",
        "        \"\"\"point1 and point2 are coordinates relative to the chord, thickness in mm\"\"\"\n",
        "        self.p1 = point1\n",
        "        self.p2 = point2\n",
        "        self.vector = point2 - point1\n",
        "        self.h = LA.norm(self.vector)\n",
        "        self.t = thickness\n",
        "        # z is the vertical distance from the x axis relative to chord\n",
        "        self.z = (point1 + self.vector/2)[1]\n",
        "\n",
        "    def A(self, y):\n",
        "        return self.h * chord(y) * self.t(y)\n",
        "    \n",
        "    def Q_x(self, y):\n",
        "        \"\"\"Returns first moment of area about z=0\"\"\"\n",
        "        return self.z * chord(y) * self.A(y)\n",
        "    \n",
        "    def I_xc(self, y):\n",
        "        \"\"\"Returns second moment of area about own axis\"\"\"\n",
        "        cos_a = self.vector[0] / self.h\n",
        "        sin_a = self.vector[1] / self.h\n",
        "\n",
        "        return self.t(y) * (self.h*chord(y)) * (self.t(y)**2 * cos_a**2 + (self.h*chord(y))**2 * sin_a**2) / 12\n",
        "    \n",
        "    def I_xx(self, y, z_centroid):\n",
        "        \"\"\"Returns second moment of area about centroid\"\"\"\n",
        "        d = self.z * chord(y) - z_centroid\n",
        "        return self.I_xc(y) + self.A(y) * d**2\n",
        "    \n"
      ]
    },
    {
      "cell_type": "code",
      "execution_count": 144,
      "metadata": {},
      "outputs": [],
      "source": [
        "class Stringer:\n",
        "    def __init__(self, area, point, length):\n",
        "        \"\"\"area is in square mm, point is the coordinate realtive to the chord and length is the spanwise length of the stringer\"\"\"\n",
        "        self.A = area * 1e-6\n",
        "        self.point = point\n",
        "        self.length = length\n",
        "    \n",
        "    def Q_x(self, y):\n",
        "        \"\"\"Returns first moment of area about z=0\"\"\"\n",
        "        return self.A * self.point[1] * chord(y)\n",
        "\n",
        "    def I_xc(self, y, z_centroid):\n",
        "        \"\"\"Returns second moment of area about centroid\"\"\"\n",
        "        \n",
        "        return self.A * (self.point[1] * chord(y) - z_centroid)**2 \n"
      ]
    },
    {
      "cell_type": "code",
      "execution_count": 145,
      "metadata": {
        "colab": {
          "base_uri": "https://localhost:8080/",
          "height": 133
        },
        "id": "1iezrXftI4yw",
        "outputId": "192889cf-c441-48e1-d09a-5fd1f90c717a"
      },
      "outputs": [],
      "source": [
        "class WingBox:\n",
        "\n",
        "  def __init__(self, front_spar_x, front_spar_t, rear_spar_x, rear_spar_t, upper_panel_t, lower_panel_t, stringers=None):\n",
        "                \n",
        "    front_upper_z, front_lower_z = airfoil_surface(front_spar_x)\n",
        "    front_upper, front_lower = np.array([front_spar_x, front_upper_z]), np.array([front_spar_x, front_lower_z])\n",
        "    rear_upper_z, rear_lower_z = airfoil_surface(rear_spar_x)\n",
        "    rear_upper, rear_lower = np.array([rear_spar_x, rear_upper_z]), np.array([rear_spar_x, rear_lower_z])\n",
        "\n",
        "    self.points = {\"front_upper\":front_upper, \"front_lower\":front_lower, \"rear_upper\":rear_upper, \"rear_lower\":rear_lower}\n",
        "\n",
        "    front_spar = Panel(front_lower, front_upper, front_spar_t)\n",
        "    rear_spar = Panel(rear_lower, rear_upper, rear_spar_t)\n",
        "    upper_panel = Panel(front_upper, rear_upper, upper_panel_t)\n",
        "    lower_panel = Panel(front_lower, rear_lower, lower_panel_t)\n",
        "\n",
        "    self.panels = {\"front_spar\":front_spar, \"rear_spar\":rear_spar, \"upper_panel\":upper_panel, \"lower_panel\":lower_panel} \n",
        "  \n",
        "    self.stringers = stringers\n",
        "\n",
        "  def A(self, y):\n",
        "    A = 0\n",
        "    for panel in self.panels.values():\n",
        "      A += panel.A(y)\n",
        "    \n",
        "    if self.stringers is not None:\n",
        "      for stringer in self.stringers:\n",
        "        if stringer.length < y:\n",
        "          pass\n",
        "        else:\n",
        "          A += stringer.A\n",
        "    return A\n",
        "  \n",
        "  def w(self, y):\n",
        "    return self.A(y)*rho_al\n",
        "\n",
        "  def W(self):\n",
        "    return quad(self.w, 0, b2)[0] * 2\n",
        "\n",
        "  def I_xc(self, y):\n",
        "    c = chord(y)\n",
        "    A = 0\n",
        "    Az = 0\n",
        "    I_xc = 0\n",
        "\n",
        "    for panel in self.panels.values():\n",
        "      A += panel.A(y)\n",
        "      Az += panel.Q_x(y)\n",
        "    \n",
        "    if self.stringers is not None:\n",
        "      for stringer in self.stringers:\n",
        "        if stringer.length < y:\n",
        "          pass\n",
        "        else:\n",
        "          A += stringer.A\n",
        "          Az += stringer.Q_x(y) \n",
        "    \n",
        "    z_centroid = Az / A\n",
        "\n",
        "    for panel in self.panels.values():\n",
        "      I_xc += panel.I_xx(y, z_centroid)\n",
        "\n",
        "    if self.stringers is not None:\n",
        "      for stringer in self.stringers:\n",
        "        if stringer.length < y:\n",
        "          pass\n",
        "        else:\n",
        "          I_xc += stringer.I_xc(y, z_centroid)\n",
        "\n",
        "    return I_xc\n",
        "  \n",
        "  def J(self, y):\n",
        "    # Calculate area inside box\n",
        "    x_distance = self.points[\"rear_upper\"][0] - self.points[\"front_upper\"][0]\n",
        "    A = x_distance/2*(self.panels[\"front_spar\"].h + self.panels[\"rear_spar\"].h) * chord(y)**2\n",
        "    integral = 0\n",
        "    for panel in self.panels.values():\n",
        "      integral += panel.h * chord(y)/panel.t(y)\n",
        "    return 4 * A**2 / integral\n",
        "\n",
        "    "
      ]
    },
    {
      "cell_type": "code",
      "execution_count": 146,
      "metadata": {},
      "outputs": [
        {
          "data": {
            "text/plain": [
              "0.001"
            ]
          },
          "execution_count": 146,
          "metadata": {},
          "output_type": "execute_result"
        }
      ],
      "source": [
        "def t(t_start, t_end):\n",
        "    t_start *= 1e-3\n",
        "    t_end *= 1e-3\n",
        "    return lambda y: t_start - (t_start - t_end) / b2 * y\n"
      ]
    },
    {
      "cell_type": "code",
      "execution_count": 173,
      "metadata": {},
      "outputs": [],
      "source": [
        "stringer_u1 = Stringer(50, (0.3, 0.05), 4)\n",
        "stringer_u2 = Stringer(50, (0.4, 0.05), 4)\n",
        "stringer_u3 = Stringer(50, (0.5, 0.05), 4)\n",
        "stringer_l1 = Stringer(50, (0.4, -0.05), 4)\n",
        "stringers = [stringer_u1, stringer_u2, stringer_u3, stringer_l1]\n",
        "\n",
        "# wingbox_iteration_1_stringer = WingBox(0.2, t_1, 0.6, t_1, t_1, t_1, stringers=[stringer_u1, stringer_u2, stringer_u3, stringer_l1])\n",
        "t_5 = t(5, 5)\n",
        "t_3 = t(3, 3)\n",
        "t_2 = t(2, 2)\n",
        "t_1 = t(1, 1)\n",
        "wingbox_iteration_1 = WingBox(0.2, t_2, 0.6, t_2, t_2, t_2)\n",
        "wingbox_iteration_2 = WingBox(0.2, t(2,1), 0.6, t(2,1), t(5,1), t(5,1))\n"
      ]
    },
    {
      "cell_type": "code",
      "execution_count": 175,
      "metadata": {},
      "outputs": [
        {
          "data": {
            "text/plain": [
              "6.190252078336808e-05"
            ]
          },
          "execution_count": 175,
          "metadata": {},
          "output_type": "execute_result"
        }
      ],
      "source": [
        "wingbox_iteration_1.I_xc(0)"
      ]
    },
    {
      "cell_type": "code",
      "execution_count": 130,
      "metadata": {},
      "outputs": [
        {
          "ename": "NameError",
          "evalue": "name 'CL_crit' is not defined",
          "output_type": "error",
          "traceback": [
            "\u001b[1;31m---------------------------------------------------------------------------\u001b[0m",
            "\u001b[1;31mNameError\u001b[0m                                 Traceback (most recent call last)",
            "\u001b[1;32m~\\AppData\\Local\\Temp/ipykernel_16468/3110775569.py\u001b[0m in \u001b[0;36m<module>\u001b[1;34m\u001b[0m\n\u001b[1;32m----> 1\u001b[1;33m \u001b[0mV\u001b[0m \u001b[1;33m=\u001b[0m \u001b[0mV_distribution\u001b[0m\u001b[1;33m(\u001b[0m\u001b[0mCL_crit\u001b[0m\u001b[1;33m,\u001b[0m \u001b[0mq_crit\u001b[0m\u001b[1;33m)\u001b[0m\u001b[1;33m\u001b[0m\u001b[1;33m\u001b[0m\u001b[0m\n\u001b[0m\u001b[0;32m      2\u001b[0m \u001b[0mM\u001b[0m \u001b[1;33m=\u001b[0m \u001b[0mM_distribution\u001b[0m\u001b[1;33m(\u001b[0m\u001b[0mV\u001b[0m\u001b[1;33m)\u001b[0m\u001b[1;33m\u001b[0m\u001b[1;33m\u001b[0m\u001b[0m\n\u001b[0;32m      3\u001b[0m \u001b[0mT\u001b[0m \u001b[1;33m=\u001b[0m \u001b[0mT_distribution\u001b[0m\u001b[1;33m(\u001b[0m\u001b[0mCL_crit\u001b[0m\u001b[1;33m,\u001b[0m \u001b[0mq_crit\u001b[0m\u001b[1;33m)\u001b[0m\u001b[1;33m\u001b[0m\u001b[1;33m\u001b[0m\u001b[0m\n",
            "\u001b[1;31mNameError\u001b[0m: name 'CL_crit' is not defined"
          ]
        }
      ],
      "source": [
        "V = V_distribution(CL_crit, q_crit)\n",
        "M = M_distribution(V)\n",
        "T = T_distribution(CL_crit, q_crit)\n"
      ]
    },
    {
      "cell_type": "markdown",
      "metadata": {},
      "source": [
        "DISPLACEMENT"
      ]
    },
    {
      "cell_type": "code",
      "execution_count": null,
      "metadata": {},
      "outputs": [],
      "source": [
        "def d2zdx2(y, wingbox: WingBox):\n",
        "    \"\"\"calculate second derivative of the displacement\"\"\"\n",
        "    return -(M(y)/E/wingbox.I_xc(y))\n",
        "\n",
        "\n",
        "def dzdx(y, wingbox: WingBox):\n",
        "    \"\"\"calculate first derivative through integration\"\"\"\n",
        "    y_range = np.linspace(0, b2, 800)\n",
        "    func = interp1d(y_range, d2zdx2(y_range, wingbox), kind='cubic', fill_value='extrapolate')\n",
        "    return [quad(func, 0, i)[0] for i in y]\n",
        "    \n",
        "\n",
        "def z(y, wingbox: WingBox):\n",
        "    \"\"\"calculate displacement through integration\"\"\"\n",
        "    y_range = np.linspace(0, b2, 800)\n",
        "    func = interp1d(y_range, dzdx(y_range, wingbox), kind='cubic', fill_value='extrapolate')\n",
        "    return [quad(func, 0, i)[0] for i in y]\n",
        "\n",
        "zperc = lambda y: z(y, wingbox_iteration_1) / b2 * 50"
      ]
    },
    {
      "cell_type": "code",
      "execution_count": 176,
      "metadata": {},
      "outputs": [
        {
          "data": {
            "text/plain": [
              "[<matplotlib.lines.Line2D at 0x23caca09b20>]"
            ]
          },
          "execution_count": 176,
          "metadata": {},
          "output_type": "execute_result"
        },
        {
          "data": {
            "image/png": "[encoded data removed]",
            "text/plain": [
              "<Figure size 432x288 with 1 Axes>"
            ]
          },
          "metadata": {
            "needs_background": "light"
          },
          "output_type": "display_data"
        }
      ],
      "source": [
        "plt.plot(y, d2zdx2(y, wingbox_iteration_1))\n",
        "plt.plot(y, d2zdx2(y, wingbox_iteration_2))"
      ]
    },
    {
      "cell_type": "code",
      "execution_count": 177,
      "metadata": {},
      "outputs": [
        {
          "data": {
            "text/plain": [
              "[<matplotlib.lines.Line2D at 0x23cada686d0>]"
            ]
          },
          "execution_count": 177,
          "metadata": {},
          "output_type": "execute_result"
        },
        {
          "data": {
            "image/png": "[encoded data removed]",
            "text/plain": [
              "<Figure size 432x288 with 1 Axes>"
            ]
          },
          "metadata": {
            "needs_background": "light"
          },
          "output_type": "display_data"
        }
      ],
      "source": [
        "plt.plot(y, dzdx(y, wingbox_iteration_1))\n",
        "plt.plot(y, dzdx(y, wingbox_iteration_2))"
      ]
    },
    {
      "cell_type": "code",
      "execution_count": 178,
      "metadata": {},
      "outputs": [
        {
          "data": {
            "image/png": "[encoded data removed]",
            "text/plain": [
              "<Figure size 432x288 with 1 Axes>"
            ]
          },
          "metadata": {
            "needs_background": "light"
          },
          "output_type": "display_data"
        }
      ],
      "source": [
        "plt.plot(y, z(y, wingbox_iteration_1))\n",
        "plt.plot(y, z(y, wingbox_iteration_2))\n",
        "plt.gca().set_aspect('equal', adjustable='box')"
      ]
    },
    {
      "cell_type": "markdown",
      "metadata": {},
      "source": [
        "ROTATION"
      ]
    },
    {
      "cell_type": "code",
      "execution_count": 156,
      "metadata": {},
      "outputs": [],
      "source": [
        "def dthetadx(y, wingbox: WingBox):\n",
        "    \"\"\"calculate first derivative of the rotation\"\"\"\n",
        "    return T(y)*G/wingbox.J(y)\n",
        "\n",
        "def theta(y, wingbox: WingBox):\n",
        "    \"\"\"calculate rotation through integration\"\"\"\n",
        "    y_range = np.linspace(0, b2, 800)\n",
        "    func = interp1d(y_range, dthetadx(y, wingbox), kind='cubic', fill_value='extrapolate')\n",
        "    return [quad(func, 0, i)[0] * 180 / np.pi for i in y]\n",
        "    "
      ]
    },
    {
      "cell_type": "code",
      "execution_count": 180,
      "metadata": {},
      "outputs": [
        {
          "data": {
            "text/plain": [
              "[<matplotlib.lines.Line2D at 0x23cadb7edf0>]"
            ]
          },
          "execution_count": 180,
          "metadata": {},
          "output_type": "execute_result"
        },
        {
          "data": {
            "image/png": "[encoded data removed]",
            "text/plain": [
              "<Figure size 432x288 with 1 Axes>"
            ]
          },
          "metadata": {
            "needs_background": "light"
          },
          "output_type": "display_data"
        }
      ],
      "source": [
        "plt.plot(y,dthetadx(y, wingbox_iteration_1))\n",
        "plt.plot(y,dthetadx(y, wingbox_iteration_2))"
      ]
    },
    {
      "cell_type": "code",
      "execution_count": 181,
      "metadata": {},
      "outputs": [
        {
          "data": {
            "text/plain": [
              "[<matplotlib.lines.Line2D at 0x23cadbea490>]"
            ]
          },
          "execution_count": 181,
          "metadata": {},
          "output_type": "execute_result"
        },
        {
          "data": {
            "image/png": "[encoded data removed]",
            "text/plain": [
              "<Figure size 432x288 with 1 Axes>"
            ]
          },
          "metadata": {
            "needs_background": "light"
          },
          "output_type": "display_data"
        }
      ],
      "source": [
        "plt.plot(y,theta(y, wingbox_iteration_1))\n",
        "plt.plot(y,theta(y, wingbox_iteration_2))"
      ]
    },
    {
      "cell_type": "code",
      "execution_count": null,
      "metadata": {},
      "outputs": [],
      "source": []
    }
  ],
  "metadata": {
    "colab": {
      "name": "Main",
      "provenance": []
    },
    "interpreter": {
      "hash": "0b4a7dbb222017a84a38191b0c2a2c1c41e2ed9f2a23de9bf64fcf36cba29e4f"
    },
    "kernelspec": {
      "display_name": "Python 3.8.8 64-bit ('base': conda)",
      "name": "python3"
    },
    "language_info": {
      "codemirror_mode": {
        "name": "ipython",
        "version": 3
      },
      "file_extension": ".py",
      "mimetype": "text/x-python",
      "name": "python",
      "nbconvert_exporter": "python",
      "pygments_lexer": "ipython3",
      "version": "3.8.8"
    }
  },
  "nbformat": 4,
  "nbformat_minor": 2
}
